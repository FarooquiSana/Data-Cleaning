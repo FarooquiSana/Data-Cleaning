{
 "cells": [
  {
   "cell_type": "markdown",
   "id": "4e52ffca",
   "metadata": {},
   "source": [
    "# Duplicates"
   ]
  },
  {
   "cell_type": "markdown",
   "id": "15b8b11a",
   "metadata": {},
   "source": [
    "\n",
    "Checking duplicate values is extremely simple. It'll behave differently between Series and DataFrames. Let's start with Series. As an example, let's say we're throwing a fancy party and we're inviting Ambassadors from Europe. But can only invite one ambassador per country. This is our original list, and as you can see, both the UK and Germany have duplicated ambassadors"
   ]
  },
  {
   "cell_type": "code",
   "execution_count": 3,
   "id": "037a1818",
   "metadata": {},
   "outputs": [],
   "source": [
    "import numpy as np\n",
    "import pandas as pd"
   ]
  },
  {
   "cell_type": "code",
   "execution_count": 4,
   "id": "13127e53",
   "metadata": {},
   "outputs": [],
   "source": [
    "ambassadors = pd.Series([\n",
    "    'France',\n",
    "    'United Kingdom',\n",
    "    'United Kingdom',\n",
    "    'Italy',\n",
    "    'Germany',\n",
    "    'Germany',\n",
    "    'Germany',\n",
    "],\n",
    "    index=[\n",
    "    'Gérard Araud',\n",
    "    'Kim Darroch',\n",
    "    'Peter Westmacott',\n",
    "    'Armando Varricchio',\n",
    "    'Peter Wittig',\n",
    "    'Peter Ammon',\n",
    "    'Klaus Scharioth '\n",
    "])"
   ]
  },
  {
   "cell_type": "code",
   "execution_count": 5,
   "id": "a11e2420",
   "metadata": {},
   "outputs": [
    {
     "data": {
      "text/plain": [
       "Gérard Araud                  France\n",
       "Kim Darroch           United Kingdom\n",
       "Peter Westmacott      United Kingdom\n",
       "Armando Varricchio             Italy\n",
       "Peter Wittig                 Germany\n",
       "Peter Ammon                  Germany\n",
       "Klaus Scharioth              Germany\n",
       "dtype: object"
      ]
     },
     "execution_count": 5,
     "metadata": {},
     "output_type": "execute_result"
    }
   ],
   "source": [
    "ambassadors"
   ]
  },
  {
   "cell_type": "markdown",
   "id": "53f5242b",
   "metadata": {},
   "source": [
    "The two most important methods to deal with duplicates are duplicated (that will tell you which values are duplicates) and drop_duplicates (which will just get rid of duplicates):"
   ]
  },
  {
   "cell_type": "code",
   "execution_count": 6,
   "id": "7adb8a49",
   "metadata": {},
   "outputs": [
    {
     "data": {
      "text/plain": [
       "Gérard Araud          False\n",
       "Kim Darroch           False\n",
       "Peter Westmacott       True\n",
       "Armando Varricchio    False\n",
       "Peter Wittig          False\n",
       "Peter Ammon            True\n",
       "Klaus Scharioth        True\n",
       "dtype: bool"
      ]
     },
     "execution_count": 6,
     "metadata": {},
     "output_type": "execute_result"
    }
   ],
   "source": [
    "ambassadors.duplicated()"
   ]
  },
  {
   "cell_type": "markdown",
   "id": "fe38bffd",
   "metadata": {},
   "source": [
    "In this case duplicated didn't consider 'Kim Darroch', the first instance of the United Kingdom or 'Peter Wittig' as duplicates. That's because, by default, it'll consider the first occurrence of the value as not-duplicate. You can change this behavior with the keep parameter:"
   ]
  },
  {
   "cell_type": "code",
   "execution_count": 7,
   "id": "71b9a380",
   "metadata": {},
   "outputs": [
    {
     "data": {
      "text/plain": [
       "Gérard Araud          False\n",
       "Kim Darroch            True\n",
       "Peter Westmacott      False\n",
       "Armando Varricchio    False\n",
       "Peter Wittig           True\n",
       "Peter Ammon            True\n",
       "Klaus Scharioth       False\n",
       "dtype: bool"
      ]
     },
     "execution_count": 7,
     "metadata": {},
     "output_type": "execute_result"
    }
   ],
   "source": [
    "ambassadors.duplicated(keep='last') #keep='last' keep last value as not duplicated "
   ]
  },
  {
   "cell_type": "markdown",
   "id": "4b31aa99",
   "metadata": {},
   "source": [
    "In this case, the result is \"flipped\", 'Kim Darroch' and 'Peter Wittig' (the first ambassadors of their countries) are considered duplicates, but 'Peter Westmacott' and 'Klaus Scharioth' are not duplicates. You can also choose to mark all of them as duplicates with keep=False:"
   ]
  },
  {
   "cell_type": "code",
   "execution_count": 8,
   "id": "a270d31f",
   "metadata": {},
   "outputs": [
    {
     "data": {
      "text/plain": [
       "Gérard Araud          False\n",
       "Kim Darroch            True\n",
       "Peter Westmacott       True\n",
       "Armando Varricchio    False\n",
       "Peter Wittig           True\n",
       "Peter Ammon            True\n",
       "Klaus Scharioth        True\n",
       "dtype: bool"
      ]
     },
     "execution_count": 8,
     "metadata": {},
     "output_type": "execute_result"
    }
   ],
   "source": [
    "ambassadors.duplicated(keep=False) #keep=False get all duplicated values \"not keep any of the duplicated value"
   ]
  },
  {
   "cell_type": "markdown",
   "id": "1a82e187",
   "metadata": {},
   "source": [
    "A similar method is drop_duplicates, which just excludes the duplicated values and also accepts the keep parameter:"
   ]
  },
  {
   "cell_type": "code",
   "execution_count": 9,
   "id": "f93c3bba",
   "metadata": {},
   "outputs": [
    {
     "data": {
      "text/plain": [
       "Gérard Araud                  France\n",
       "Kim Darroch           United Kingdom\n",
       "Armando Varricchio             Italy\n",
       "Peter Wittig                 Germany\n",
       "dtype: object"
      ]
     },
     "execution_count": 9,
     "metadata": {},
     "output_type": "execute_result"
    }
   ],
   "source": [
    "ambassadors.drop_duplicates()"
   ]
  },
  {
   "cell_type": "code",
   "execution_count": 10,
   "id": "d37b708b",
   "metadata": {},
   "outputs": [
    {
     "data": {
      "text/plain": [
       "Gérard Araud                  France\n",
       "Peter Westmacott      United Kingdom\n",
       "Armando Varricchio             Italy\n",
       "Klaus Scharioth              Germany\n",
       "dtype: object"
      ]
     },
     "execution_count": 10,
     "metadata": {},
     "output_type": "execute_result"
    }
   ],
   "source": [
    "ambassadors.drop_duplicates(keep='last')"
   ]
  },
  {
   "cell_type": "code",
   "execution_count": 11,
   "id": "5324e583",
   "metadata": {},
   "outputs": [
    {
     "data": {
      "text/plain": [
       "Gérard Araud          France\n",
       "Armando Varricchio     Italy\n",
       "dtype: object"
      ]
     },
     "execution_count": 11,
     "metadata": {},
     "output_type": "execute_result"
    }
   ],
   "source": [
    "ambassadors.drop_duplicates(keep=False)"
   ]
  },
  {
   "cell_type": "markdown",
   "id": "76562a8d",
   "metadata": {},
   "source": [
    "# Duplicates in DataFrames"
   ]
  },
  {
   "cell_type": "markdown",
   "id": "55f4ae2d",
   "metadata": {},
   "source": [
    "Conceptually speaking, duplicates in a DataFrame happen at \"row\" level. Two rows with exactly the same values are considered to be duplicates:"
   ]
  },
  {
   "cell_type": "code",
   "execution_count": 12,
   "id": "e0127d02",
   "metadata": {},
   "outputs": [],
   "source": [
    "players = pd.DataFrame({\n",
    "    'Name': [\n",
    "        'Kobe Bryant',\n",
    "        'LeBron James',\n",
    "        'Kobe Bryant',\n",
    "        'Carmelo Anthony',\n",
    "        'Kobe Bryant',\n",
    "    ],\n",
    "    'Pos': [\n",
    "        'SG',\n",
    "        'SF',\n",
    "        'SG',\n",
    "        'SF',\n",
    "        'SF'\n",
    "    ]\n",
    "})"
   ]
  },
  {
   "cell_type": "code",
   "execution_count": 13,
   "id": "eaccbccc",
   "metadata": {},
   "outputs": [
    {
     "data": {
      "text/html": [
       "<div>\n",
       "<style scoped>\n",
       "    .dataframe tbody tr th:only-of-type {\n",
       "        vertical-align: middle;\n",
       "    }\n",
       "\n",
       "    .dataframe tbody tr th {\n",
       "        vertical-align: top;\n",
       "    }\n",
       "\n",
       "    .dataframe thead th {\n",
       "        text-align: right;\n",
       "    }\n",
       "</style>\n",
       "<table border=\"1\" class=\"dataframe\">\n",
       "  <thead>\n",
       "    <tr style=\"text-align: right;\">\n",
       "      <th></th>\n",
       "      <th>Name</th>\n",
       "      <th>Pos</th>\n",
       "    </tr>\n",
       "  </thead>\n",
       "  <tbody>\n",
       "    <tr>\n",
       "      <th>0</th>\n",
       "      <td>Kobe Bryant</td>\n",
       "      <td>SG</td>\n",
       "    </tr>\n",
       "    <tr>\n",
       "      <th>1</th>\n",
       "      <td>LeBron James</td>\n",
       "      <td>SF</td>\n",
       "    </tr>\n",
       "    <tr>\n",
       "      <th>2</th>\n",
       "      <td>Kobe Bryant</td>\n",
       "      <td>SG</td>\n",
       "    </tr>\n",
       "    <tr>\n",
       "      <th>3</th>\n",
       "      <td>Carmelo Anthony</td>\n",
       "      <td>SF</td>\n",
       "    </tr>\n",
       "    <tr>\n",
       "      <th>4</th>\n",
       "      <td>Kobe Bryant</td>\n",
       "      <td>SF</td>\n",
       "    </tr>\n",
       "  </tbody>\n",
       "</table>\n",
       "</div>"
      ],
      "text/plain": [
       "              Name Pos\n",
       "0      Kobe Bryant  SG\n",
       "1     LeBron James  SF\n",
       "2      Kobe Bryant  SG\n",
       "3  Carmelo Anthony  SF\n",
       "4      Kobe Bryant  SF"
      ]
     },
     "execution_count": 13,
     "metadata": {},
     "output_type": "execute_result"
    }
   ],
   "source": [
    "players"
   ]
  },
  {
   "cell_type": "markdown",
   "id": "f45a9357",
   "metadata": {},
   "source": [
    "In the previous DataFrame, we clearly see that Kobe is duplicated; but he appears with two different positions. What does duplicated say?"
   ]
  },
  {
   "cell_type": "code",
   "execution_count": 14,
   "id": "c67a3ce6",
   "metadata": {},
   "outputs": [
    {
     "data": {
      "text/plain": [
       "0    False\n",
       "1    False\n",
       "2     True\n",
       "3    False\n",
       "4    False\n",
       "dtype: bool"
      ]
     },
     "execution_count": 14,
     "metadata": {},
     "output_type": "execute_result"
    }
   ],
   "source": [
    "players.duplicated()"
   ]
  },
  {
   "cell_type": "markdown",
   "id": "53381fa6",
   "metadata": {},
   "source": [
    "Again, conceptually, \"duplicated\" means \"all the column values should be duplicates\". We can customize this with the subset parameter:"
   ]
  },
  {
   "cell_type": "code",
   "execution_count": 15,
   "id": "5e294339",
   "metadata": {},
   "outputs": [
    {
     "data": {
      "text/plain": [
       "0    False\n",
       "1    False\n",
       "2     True\n",
       "3    False\n",
       "4     True\n",
       "dtype: bool"
      ]
     },
     "execution_count": 15,
     "metadata": {},
     "output_type": "execute_result"
    }
   ],
   "source": [
    "players.duplicated(subset=['Name'])"
   ]
  },
  {
   "cell_type": "markdown",
   "id": "4f9b21be",
   "metadata": {},
   "source": [
    "And the same rules of keep still apply:"
   ]
  },
  {
   "cell_type": "code",
   "execution_count": 16,
   "id": "9d3bd8da",
   "metadata": {},
   "outputs": [
    {
     "data": {
      "text/plain": [
       "0     True\n",
       "1    False\n",
       "2     True\n",
       "3    False\n",
       "4    False\n",
       "dtype: bool"
      ]
     },
     "execution_count": 16,
     "metadata": {},
     "output_type": "execute_result"
    }
   ],
   "source": [
    "players.duplicated(subset=['Name'], keep='last')"
   ]
  },
  {
   "cell_type": "markdown",
   "id": "a5761b05",
   "metadata": {},
   "source": [
    "drop_duplicates takes the same parameters:"
   ]
  },
  {
   "cell_type": "code",
   "execution_count": 18,
   "id": "4937736f",
   "metadata": {},
   "outputs": [
    {
     "data": {
      "text/html": [
       "<div>\n",
       "<style scoped>\n",
       "    .dataframe tbody tr th:only-of-type {\n",
       "        vertical-align: middle;\n",
       "    }\n",
       "\n",
       "    .dataframe tbody tr th {\n",
       "        vertical-align: top;\n",
       "    }\n",
       "\n",
       "    .dataframe thead th {\n",
       "        text-align: right;\n",
       "    }\n",
       "</style>\n",
       "<table border=\"1\" class=\"dataframe\">\n",
       "  <thead>\n",
       "    <tr style=\"text-align: right;\">\n",
       "      <th></th>\n",
       "      <th>Name</th>\n",
       "      <th>Pos</th>\n",
       "    </tr>\n",
       "  </thead>\n",
       "  <tbody>\n",
       "    <tr>\n",
       "      <th>0</th>\n",
       "      <td>Kobe Bryant</td>\n",
       "      <td>SG</td>\n",
       "    </tr>\n",
       "    <tr>\n",
       "      <th>1</th>\n",
       "      <td>LeBron James</td>\n",
       "      <td>SF</td>\n",
       "    </tr>\n",
       "    <tr>\n",
       "      <th>3</th>\n",
       "      <td>Carmelo Anthony</td>\n",
       "      <td>SF</td>\n",
       "    </tr>\n",
       "    <tr>\n",
       "      <th>4</th>\n",
       "      <td>Kobe Bryant</td>\n",
       "      <td>SF</td>\n",
       "    </tr>\n",
       "  </tbody>\n",
       "</table>\n",
       "</div>"
      ],
      "text/plain": [
       "              Name Pos\n",
       "0      Kobe Bryant  SG\n",
       "1     LeBron James  SF\n",
       "3  Carmelo Anthony  SF\n",
       "4      Kobe Bryant  SF"
      ]
     },
     "execution_count": 18,
     "metadata": {},
     "output_type": "execute_result"
    }
   ],
   "source": [
    "players.drop_duplicates()"
   ]
  },
  {
   "cell_type": "code",
   "execution_count": 19,
   "id": "d5d739f8",
   "metadata": {},
   "outputs": [
    {
     "data": {
      "text/html": [
       "<div>\n",
       "<style scoped>\n",
       "    .dataframe tbody tr th:only-of-type {\n",
       "        vertical-align: middle;\n",
       "    }\n",
       "\n",
       "    .dataframe tbody tr th {\n",
       "        vertical-align: top;\n",
       "    }\n",
       "\n",
       "    .dataframe thead th {\n",
       "        text-align: right;\n",
       "    }\n",
       "</style>\n",
       "<table border=\"1\" class=\"dataframe\">\n",
       "  <thead>\n",
       "    <tr style=\"text-align: right;\">\n",
       "      <th></th>\n",
       "      <th>Name</th>\n",
       "      <th>Pos</th>\n",
       "    </tr>\n",
       "  </thead>\n",
       "  <tbody>\n",
       "    <tr>\n",
       "      <th>0</th>\n",
       "      <td>Kobe Bryant</td>\n",
       "      <td>SG</td>\n",
       "    </tr>\n",
       "    <tr>\n",
       "      <th>1</th>\n",
       "      <td>LeBron James</td>\n",
       "      <td>SF</td>\n",
       "    </tr>\n",
       "    <tr>\n",
       "      <th>3</th>\n",
       "      <td>Carmelo Anthony</td>\n",
       "      <td>SF</td>\n",
       "    </tr>\n",
       "  </tbody>\n",
       "</table>\n",
       "</div>"
      ],
      "text/plain": [
       "              Name Pos\n",
       "0      Kobe Bryant  SG\n",
       "1     LeBron James  SF\n",
       "3  Carmelo Anthony  SF"
      ]
     },
     "execution_count": 19,
     "metadata": {},
     "output_type": "execute_result"
    }
   ],
   "source": [
    "players.drop_duplicates(subset=['Name'])"
   ]
  },
  {
   "cell_type": "code",
   "execution_count": 20,
   "id": "8edc4295",
   "metadata": {},
   "outputs": [
    {
     "data": {
      "text/html": [
       "<div>\n",
       "<style scoped>\n",
       "    .dataframe tbody tr th:only-of-type {\n",
       "        vertical-align: middle;\n",
       "    }\n",
       "\n",
       "    .dataframe tbody tr th {\n",
       "        vertical-align: top;\n",
       "    }\n",
       "\n",
       "    .dataframe thead th {\n",
       "        text-align: right;\n",
       "    }\n",
       "</style>\n",
       "<table border=\"1\" class=\"dataframe\">\n",
       "  <thead>\n",
       "    <tr style=\"text-align: right;\">\n",
       "      <th></th>\n",
       "      <th>Name</th>\n",
       "      <th>Pos</th>\n",
       "    </tr>\n",
       "  </thead>\n",
       "  <tbody>\n",
       "    <tr>\n",
       "      <th>1</th>\n",
       "      <td>LeBron James</td>\n",
       "      <td>SF</td>\n",
       "    </tr>\n",
       "    <tr>\n",
       "      <th>3</th>\n",
       "      <td>Carmelo Anthony</td>\n",
       "      <td>SF</td>\n",
       "    </tr>\n",
       "    <tr>\n",
       "      <th>4</th>\n",
       "      <td>Kobe Bryant</td>\n",
       "      <td>SF</td>\n",
       "    </tr>\n",
       "  </tbody>\n",
       "</table>\n",
       "</div>"
      ],
      "text/plain": [
       "              Name Pos\n",
       "1     LeBron James  SF\n",
       "3  Carmelo Anthony  SF\n",
       "4      Kobe Bryant  SF"
      ]
     },
     "execution_count": 20,
     "metadata": {},
     "output_type": "execute_result"
    }
   ],
   "source": [
    "players.drop_duplicates(subset=['Name'], keep='last')"
   ]
  },
  {
   "cell_type": "code",
   "execution_count": null,
   "id": "6ef4bbc5",
   "metadata": {},
   "outputs": [],
   "source": []
  }
 ],
 "metadata": {
  "kernelspec": {
   "display_name": "Python 3 (ipykernel)",
   "language": "python",
   "name": "python3"
  },
  "language_info": {
   "codemirror_mode": {
    "name": "ipython",
    "version": 3
   },
   "file_extension": ".py",
   "mimetype": "text/x-python",
   "name": "python",
   "nbconvert_exporter": "python",
   "pygments_lexer": "ipython3",
   "version": "3.11.4"
  }
 },
 "nbformat": 4,
 "nbformat_minor": 5
}
